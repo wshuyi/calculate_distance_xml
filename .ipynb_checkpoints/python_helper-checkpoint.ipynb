{
 "cells": [
  {
   "cell_type": "code",
   "execution_count": null,
   "metadata": {},
   "outputs": [],
   "source": [
    "from bs4 import BeautifulSoup\n",
    "import math"
   ]
  },
  {
   "cell_type": "code",
   "execution_count": null,
   "metadata": {},
   "outputs": [],
   "source": [
    "# set xml filenames\n",
    "sp_node_xml_filename = 'special_node.xml'\n",
    "nodes_xml_filename = \"nodes.xml\""
   ]
  },
  {
   "cell_type": "code",
   "execution_count": null,
   "metadata": {},
   "outputs": [],
   "source": [
    "# function to calculate distance between two nodes (x0, y0) and (x1, y1)\n",
    "def distance(x0, y0, x1, y1):\n",
    "    return math.sqrt((x1 - x0) ** 2. + (y1 - y0) ** 2.)"
   ]
  },
  {
   "cell_type": "code",
   "execution_count": null,
   "metadata": {},
   "outputs": [],
   "source": [
    "# function to read the special node\n",
    "def get_special_node(sp_node_xml_filename):\n",
    "    f = open(sp_node_xml_filename)\n",
    "    xml_content = f.read()\n",
    "    soup = BeautifulSoup(xml_content, \"xml\")\n",
    "    xcor = float(soup.find('xcor').text)\n",
    "    ycor = float(soup.find('ycor').text)\n",
    "    return xcor, ycor"
   ]
  },
  {
   "cell_type": "code",
   "execution_count": null,
   "metadata": {},
   "outputs": [],
   "source": [
    "# function to calculate the sum of distance between nodes and the special node\n",
    "def calculate_distance(nodes_xml_filename, xcor, ycor):\n",
    "    f = open(nodes_xml_filename)\n",
    "    xml_content = f.read()\n",
    "    soup = BeautifulSoup(xml_content, \"xml\")\n",
    "    mysum = 0\n",
    "    n = 0\n",
    "    for node in soup.find_all('node'):\n",
    "        if node.mark.text == \"True\":\n",
    "            mydistance = distance(xcor_sp, ycor_sp, float(node.xcor.text), float(node.ycor.text))\n",
    "            # Your code goes here:\n",
    "            # \n",
    "            # \n",
    "    return mysum, n"
   ]
  },
  {
   "cell_type": "code",
   "execution_count": null,
   "metadata": {},
   "outputs": [],
   "source": [
    "# read the special node\n",
    "xcor_sp, ycor_sp = get_special_node(sp_node_xml_filename)"
   ]
  },
  {
   "cell_type": "code",
   "execution_count": null,
   "metadata": {},
   "outputs": [],
   "source": [
    "# calculate the sum of distance and number of nodes have got mark 'True'\n",
    "mysum, n = calculate_distance(nodes_xml_filename, xcor_sp, ycor_sp)"
   ]
  },
  {
   "cell_type": "code",
   "execution_count": null,
   "metadata": {},
   "outputs": [],
   "source": [
    "# Output sum, n, and average distance\n",
    "print(f\"sum={mysum}\")\n",
    "print(f\"nodes number={n}\")\n",
    "print(f\"average distance={float(mysum)/n}\")"
   ]
  }
 ],
 "metadata": {
  "kernelspec": {
   "display_name": "Python 3",
   "language": "python",
   "name": "python3"
  },
  "language_info": {
   "codemirror_mode": {
    "name": "ipython",
    "version": 3
   },
   "file_extension": ".py",
   "mimetype": "text/x-python",
   "name": "python",
   "nbconvert_exporter": "python",
   "pygments_lexer": "ipython3",
   "version": "3.6.8"
  }
 },
 "nbformat": 4,
 "nbformat_minor": 2
}
